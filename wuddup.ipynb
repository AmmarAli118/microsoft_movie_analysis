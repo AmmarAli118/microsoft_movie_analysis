{
 "cells": [
  {
   "cell_type": "code",
   "execution_count": 1,
   "id": "7ae09453",
   "metadata": {
    "ExecuteTime": {
     "end_time": "2021-06-04T19:17:51.687953Z",
     "start_time": "2021-06-04T19:17:51.678265Z"
    }
   },
   "outputs": [
    {
     "data": {
      "text/markdown": [
       "#### Wuddup\n",
       "\n",
       "### Wuddup\n",
       "\n",
       "## Wuddup\n",
       "\n",
       "# Wuddup"
      ],
      "text/plain": [
       "<IPython.core.display.Markdown object>"
      ]
     },
     "metadata": {},
     "output_type": "display_data"
    }
   ],
   "source": [
    "from IPython.display import display, Markdown\n",
    "display(Markdown(\"#### Wuddup\\n\\n### Wuddup\\n\\n## Wuddup\\n\\n# Wuddup\"))"
   ]
  },
  {
   "cell_type": "code",
   "execution_count": null,
   "id": "677acc02",
   "metadata": {},
   "outputs": [],
   "source": []
  }
 ],
 "metadata": {
  "kernelspec": {
   "display_name": "Python 3",
   "language": "python",
   "name": "python3"
  },
  "language_info": {
   "codemirror_mode": {
    "name": "ipython",
    "version": 3
   },
   "file_extension": ".py",
   "mimetype": "text/x-python",
   "name": "python",
   "nbconvert_exporter": "python",
   "pygments_lexer": "ipython3",
   "version": "3.7.4"
  },
  "toc": {
   "base_numbering": 1,
   "nav_menu": {},
   "number_sections": false,
   "sideBar": true,
   "skip_h1_title": false,
   "title_cell": "Table of Contents",
   "title_sidebar": "Contents",
   "toc_cell": false,
   "toc_position": {},
   "toc_section_display": true,
   "toc_window_display": false
  }
 },
 "nbformat": 4,
 "nbformat_minor": 5
}
